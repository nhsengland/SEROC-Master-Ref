{
 "cells": [
  {
   "cell_type": "code",
   "execution_count": 0,
   "metadata": {
    "application/vnd.databricks.v1+cell": {
     "cellMetadata": {
      "byteLimit": 2048000,
      "rowLimit": 10000
     },
     "inputWidgets": {},
     "nuid": "36489c3a-39be-42b5-9487-8cc53b3b658f",
     "showTitle": false,
     "tableResultSettingsMap": {},
     "title": ""
    }
   },
   "outputs": [],
   "source": [
    "#Connecting to GP table\n",
    "\n",
    "spark.conf.set(\n",
    "    \"fs.azure.account.key.udalstdatacuratedprod.dfs.core.windows.net\",\n",
    "    \"<correct-account-key>\"\n",
    ")\n",
    "\n",
    "parquet_path = \"abfss://reporting@udalstdatacuratedprod.dfs.core.windows.net/unrestricted/reference/UKHD/ODS/GP_Hierarchies_All/\"\n",
    "\n",
    "df_gp = spark.read.parquet(parquet_path)\n",
    "\n",
    "display(df_gp)"
   ]
  },
  {
   "cell_type": "code",
   "execution_count": 0,
   "metadata": {
    "application/vnd.databricks.v1+cell": {
     "cellMetadata": {
      "byteLimit": 2048000,
      "rowLimit": 10000
     },
     "inputWidgets": {},
     "nuid": "f6670e31-1982-4a17-9185-0b526ff8b909",
     "showTitle": false,
     "tableResultSettingsMap": {},
     "title": ""
    }
   },
   "outputs": [],
   "source": [
    "#Shaping GP view\n",
    "\n",
    "from pyspark.sql.functions import lit\n",
    "\n",
    "df_practice = df_gp.filter(df_gp.Rel_Active == 'True') \\\n",
    "    .selectExpr(\n",
    "        \"GP_Code as Org_Code\",\n",
    "        \"GP_Name as Org_Name\",\n",
    "        \"GP_PCN_Code as PCN_Code\",\n",
    "        \"GP_PCN_Name as PCN_Name\",\n",
    "        \"PCN_STP_Code as PCN_STP_Code\",\n",
    "        \"Rel_Active\",\n",
    "        \"'Practice' as Mapping_type\"\n",
    "    )\n",
    "\n",
    "df_pcn = df_gp.filter(df_gp.Rel_Active == 'True') \\\n",
    "    .select(\n",
    "        \"GP_PCN_Code\", \"GP_PCN_Name\", \"PCN_STP_Code\", \"Rel_Active\"\n",
    "    ).dropDuplicates() \\\n",
    "    .selectExpr(\n",
    "        \"GP_PCN_Code as Org_Code\",\n",
    "        \"GP_PCN_Name as Org_Name\",\n",
    "        \"GP_PCN_Code as PCN_Code\",\n",
    "        \"GP_PCN_Name as PCN_Name\",\n",
    "        \"PCN_STP_Code as PCN_STP_Code\",\n",
    "        \"Rel_Active\",\n",
    "        \"'PCN' as Mapping_type\"\n",
    "    )\n",
    "\n",
    "df_gp_mapped = df_practice.unionByName(df_pcn)\n",
    "\n",
    "df_gp_mapped.write.mode(\"overwrite\").option(\"header\", True).csv(\n",
    "    \"abfss://analytics-projects@udalstdataanalysisprod.dfs.core.windows.net/ElectiveRecovery/EROC_Collection_Queries/GP_mapped.csv\"\n",
    ")"
   ]
  },
  {
   "cell_type": "code",
   "execution_count": 0,
   "metadata": {
    "application/vnd.databricks.v1+cell": {
     "cellMetadata": {
      "byteLimit": 2048000,
      "rowLimit": 10000
     },
     "inputWidgets": {},
     "nuid": "7d0c7c2b-2670-47a8-9c80-e73ef455fede",
     "showTitle": false,
     "tableResultSettingsMap": {},
     "title": ""
    }
   },
   "outputs": [],
   "source": [
    "#Connecting to TFC tables\n",
    "\n",
    "spark.conf.set(\n",
    "    \"fs.azure.account.key.udalstdatacuratedprod.dfs.core.windows.net\",\n",
    "    \"<actual-account-key>\"\n",
    ")\n",
    "\n",
    "parquet_path = \"abfss://unrestricted@udalstdatacuratedprod.dfs.core.windows.net/reference/Internal/Reference/eRS_TFC_Mappings/Published/1/Internal_Reference_eRS_TFC_Mappings_00000.parquet\"\n",
    "\n",
    "df_tfc = spark.read.parquet(parquet_path)\n",
    "\n",
    "display(df_tfc)"
   ]
  },
  {
   "cell_type": "code",
   "execution_count": 0,
   "metadata": {
    "application/vnd.databricks.v1+cell": {
     "cellMetadata": {
      "byteLimit": 2048000,
      "rowLimit": 10000
     },
     "inputWidgets": {},
     "nuid": "f5b4dc22-317a-455d-b1ea-fa0048f4c74e",
     "showTitle": false,
     "tableResultSettingsMap": {},
     "title": ""
    }
   },
   "outputs": [],
   "source": [
    "#Saving the TFC view\n",
    "\n",
    "df_tfc.write.mode(\"overwrite\").option(\"header\", True).csv(\n",
    "    \"abfss://analytics-projects@udalstdataanalysisprod.dfs.core.windows.net/ElectiveRecovery/EROC_Collection_Queries/TFC_mapped.csv\"\n",
    ")"
   ]
  },
  {
   "cell_type": "code",
   "execution_count": 0,
   "metadata": {
    "application/vnd.databricks.v1+cell": {
     "cellMetadata": {
      "byteLimit": 2048000,
      "rowLimit": 10000
     },
     "inputWidgets": {},
     "nuid": "f5e354e6-ac5b-4a8b-af9d-7e83f3aa6d4e",
     "showTitle": false,
     "tableResultSettingsMap": {},
     "title": ""
    }
   },
   "outputs": [],
   "source": [
    "#Connecting to Commissioner Hierarchies\n",
    "\n",
    "spark.conf.set(\n",
    "    \"fs.azure.account.key.udalstdatacuratedprod.dfs.core.windows.net\",\n",
    "    \"<actual-account-key>\"\n",
    ")\n",
    "\n",
    "parquet_path = \"abfss://reporting@udalstdatacuratedprod.dfs.core.windows.net/unrestricted/reference/UKHD/ODS/Commissioner_Hierarchies_ICB/UKHD_ODS_Commissioner_Hierarchies_ICB_00000.parquet\"\n",
    "\n",
    "df_icb = spark.read.parquet(parquet_path)\n",
    "\n",
    "display(df_icb)"
   ]
  },
  {
   "cell_type": "code",
   "execution_count": 0,
   "metadata": {
    "application/vnd.databricks.v1+cell": {
     "cellMetadata": {
      "byteLimit": 2048000,
      "rowLimit": 10000
     },
     "inputWidgets": {},
     "nuid": "817b09c5-82ce-4888-bada-6ee8ac447083",
     "showTitle": false,
     "tableResultSettingsMap": {},
     "title": ""
    }
   },
   "outputs": [],
   "source": [
    "#Connecting to Provider Hierarchies\n",
    "\n",
    "spark.conf.set(\n",
    "    \"fs.azure.account.key.udalstdatacuratedprod.dfs.core.windows.net\",\n",
    "    \"<actual-account-key>\"\n",
    ")\n",
    "\n",
    "parquet_path = \"abfss://reporting@udalstdatacuratedprod.dfs.core.windows.net/unrestricted/reference/UKHD/ODS/Provider_Hierarchies/UKHD_ODS_Provider_Hierarchies_00000.parquet\"\n",
    "df_provider = spark.read.parquet(parquet_path)\n",
    "\n",
    "display(df_provider)"
   ]
  },
  {
   "cell_type": "code",
   "execution_count": 0,
   "metadata": {
    "application/vnd.databricks.v1+cell": {
     "cellMetadata": {
      "byteLimit": 2048000,
      "rowLimit": 10000
     },
     "inputWidgets": {},
     "nuid": "01331904-7971-4d53-87be-490b0da530cd",
     "showTitle": false,
     "tableResultSettingsMap": {},
     "title": ""
    }
   },
   "outputs": [],
   "source": [
    "#Connecting to GPs Hierarchies\n",
    "\n",
    "spark.conf.set(\n",
    "    \"fs.azure.account.key.udalstdatacuratedprod.dfs.core.windows.net\",\n",
    "    \"<actual-account-key>\"\n",
    ")\n",
    "\n",
    "parquet_path = \"abfss://reporting@udalstdatacuratedprod.dfs.core.windows.net/unrestricted/reference/UKHD/ODS/GP_Hierarchies_All/UKHD_ODS_GP_Hierarchies_All_00000.parquet\"\n",
    "df_gps = spark.read.parquet(parquet_path)\n",
    "\n",
    "display(df_gps)"
   ]
  },
  {
   "cell_type": "code",
   "execution_count": 0,
   "metadata": {
    "application/vnd.databricks.v1+cell": {
     "cellMetadata": {
      "byteLimit": 2048000,
      "rowLimit": 10000
     },
     "inputWidgets": {},
     "nuid": "566f6196-d94e-48e1-a0ad-510d14d67863",
     "showTitle": false,
     "tableResultSettingsMap": {},
     "title": ""
    }
   },
   "outputs": [],
   "source": [
    "#Connecting to Optical Hierarchies\n",
    "\n",
    "spark.conf.set(\n",
    "    \"fs.azure.account.key.udalstdatacuratedprod.dfs.core.windows.net\",\n",
    "    \"<actual-account-key>\"\n",
    ")\n",
    "\n",
    "parquet_path = \"abfss://unrestricted@udalstdatacuratedprod.dfs.core.windows.net/reference/UKHD/ODS/Optical_Sites_SCD/Published/1/UKHD_ODS_Optical_Sites_SCD_00000.parquet\"\n",
    "df_optical = spark.read.parquet(parquet_path)\n",
    "\n",
    "display(df_optical)"
   ]
  },
  {
   "cell_type": "code",
   "execution_count": 0,
   "metadata": {
    "application/vnd.databricks.v1+cell": {
     "cellMetadata": {
      "byteLimit": 2048000,
      "rowLimit": 10000
     },
     "inputWidgets": {},
     "nuid": "77dc4cdf-5871-40a3-b1c2-ab7b235bc533",
     "showTitle": false,
     "tableResultSettingsMap": {},
     "title": ""
    }
   },
   "outputs": [],
   "source": [
    "#Connecting to Dental Hierarchies\n",
    "\n",
    "spark.conf.set(\n",
    "    \"fs.azure.account.key.udalstdatacuratedprod.dfs.core.windows.net\",\n",
    "    \"<actual-account-key>\"\n",
    ")\n",
    "\n",
    "parquet_path = \"abfss://unrestricted@udalstdatacuratedprod.dfs.core.windows.net/reference/UKHD/ODS/General_Dental_Practices_SCD/Published/1/UKHD_ODS_General_Dental_Practices_SCD_00000.parquet\"\n",
    "df_dental = spark.read.parquet(parquet_path)\n",
    "\n",
    "display(df_dental)"
   ]
  },
  {
   "cell_type": "code",
   "execution_count": 0,
   "metadata": {
    "application/vnd.databricks.v1+cell": {
     "cellMetadata": {
      "byteLimit": 2048000,
      "rowLimit": 10000
     },
     "inputWidgets": {},
     "nuid": "afb75752-5730-4fb1-a813-dc95ce0ce9e6",
     "showTitle": false,
     "tableResultSettingsMap": {},
     "title": ""
    }
   },
   "outputs": [],
   "source": [
    "#Connecting to API\n",
    "\n",
    "spark.conf.set(\n",
    "    \"fs.azure.account.key.udalstdatacuratedprod.dfs.core.windows.net\",\n",
    "    \"<actual-account-key>\"\n",
    ")\n",
    "\n",
    "parquet_path = \"abfss://unrestricted@udalstdatacuratedprod.dfs.core.windows.net/reference/UKHD/ODS_API/vwOrganisation_SCD_IsLatestEqualsOneWithRole/Published/1/UKHD_ODS_API_vwOrganisation_SCD_IsLatestEqualsOneWithRole_00000.parquet\"\n",
    "df_api = spark.read.parquet(parquet_path)\n",
    "\n",
    "display(df_api)\n",
    "\n",
    "\n",
    "\n"
   ]
  },
  {
   "cell_type": "code",
   "execution_count": 0,
   "metadata": {
    "application/vnd.databricks.v1+cell": {
     "cellMetadata": {
      "byteLimit": 2048000,
      "rowLimit": 10000
     },
     "inputWidgets": {},
     "nuid": "8573581c-0c94-40aa-9750-9d2bd7ea8c44",
     "showTitle": false,
     "tableResultSettingsMap": {},
     "title": ""
    }
   },
   "outputs": [],
   "source": [
    "from pyspark.sql.functions import col, lit, coalesce, row_number, to_date\n",
    "from pyspark.sql.window import Window\n",
    "from pyspark.sql.types import DateType, StructType, StructField, StringType\n",
    "\n",
    "# ------------------------------------------------------------\n",
    "# 0) Roles DataFrame now comes from df_api (already loaded above)\n",
    "# ------------------------------------------------------------\n",
    "df_roles = df_api\n",
    "\n",
    "# Optional: keep only the columns we need\n",
    "if \"ODS_Code\" in df_roles.columns and \"Role_ID\" in df_roles.columns:\n",
    "    df_roles = df_roles.select(\"ODS_Code\", \"Role_ID\")\n",
    "\n",
    "# ------------------------------------------------------------\n",
    "# Helper to enforce date columns\n",
    "# ------------------------------------------------------------\n",
    "def ensure_date_cols(df):\n",
    "    return (\n",
    "        df.withColumn(\"Effective_From\", col(\"Effective_From\").cast(DateType()))\n",
    "          .withColumn(\"Effective_To\",   col(\"Effective_To\").cast(DateType()))\n",
    "    )\n",
    "\n",
    "# ------------------------------------------------------------\n",
    "# 1) Commissioner Hierarchies\n",
    "# ------------------------------------------------------------\n",
    "df_icb_sel = df_icb.select(\n",
    "    \"Organisation_Code\",\n",
    "    \"Organisation_Name\",\n",
    "    \"ICB_Code\",\n",
    "    \"Integrated_Care_Board_Name\",\n",
    "    \"ODS_Organisation_Type\",\n",
    "    \"Effective_From\",\n",
    "    \"Effective_To\"\n",
    ").withColumn(\"Source\", lit(\"Commissioner_Hierarchies\"))\n",
    "\n",
    "# ------------------------------------------------------------\n",
    "# 2) Provider Hierarchies\n",
    "# ------------------------------------------------------------\n",
    "df_provider_sel = df_provider.select(\n",
    "    col(\"Organisation_Code\"),\n",
    "    col(\"Organisation_Name\"),\n",
    "    col(\"STP_Code\").alias(\"ICB_Code\"),\n",
    "    col(\"STP_Name\").alias(\"Integrated_Care_Board_Name\"),\n",
    "    col(\"ODS_Organisation_Type\"),\n",
    "    col(\"Effective_From\"),\n",
    "    col(\"Effective_To\")\n",
    ").withColumn(\"Source\", lit(\"Provider_Hierarchies\"))\n",
    "\n",
    "# ------------------------------------------------------------\n",
    "# 3) GP Practice\n",
    "# ------------------------------------------------------------\n",
    "df_gps_practice = df_gps.select(\n",
    "    col(\"GP_Code\").alias(\"Organisation_Code\"),\n",
    "    col(\"GP_Name\").alias(\"Organisation_Name\"),\n",
    "    col(\"GP_STP_Code\").alias(\"ICB_Code\"),\n",
    "    col(\"GP_STP_Name\").alias(\"Integrated_Care_Board_Name\"),\n",
    "    lit(\"GP Practice\").alias(\"ODS_Organisation_Type\"),\n",
    "    col(\"GP_PCN_Rel_Start_Date\").alias(\"Effective_From\"),\n",
    "    col(\"GP_PCN_Rel_End_Date\").alias(\"Effective_To\")\n",
    ").withColumn(\"Source\", lit(\"GP_Hierarchies_All_1_GP\"))\n",
    "\n",
    "# ------------------------------------------------------------\n",
    "# 4) GP PCN\n",
    "# ------------------------------------------------------------\n",
    "df_gps_pcn = df_gps.select(\n",
    "    col(\"GP_PCN_Code\").alias(\"Organisation_Code\"),\n",
    "    col(\"GP_PCN_Name\").alias(\"Organisation_Name\"),\n",
    "    col(\"PCN_STP_Code\").alias(\"ICB_Code\"),\n",
    "    col(\"PCN_STP_Name\").alias(\"Integrated_Care_Board_Name\"),\n",
    "    lit(\"PCN\").alias(\"ODS_Organisation_Type\"),\n",
    "    col(\"GP_PCN_Rel_Start_Date\").alias(\"Effective_From\"),\n",
    "    col(\"GP_PCN_Rel_End_Date\").alias(\"Effective_To\")\n",
    ").withColumn(\"Source\", lit(\"GP_Hierarchies_All_1_PCN\"))\n",
    "\n",
    "# ------------------------------------------------------------\n",
    "# 5) Roles view filter (Role_ID = 'RO261')\n",
    "# ------------------------------------------------------------\n",
    "df_roles_ro261 = df_roles.filter(col(\"Role_ID\") == \"RO261\").select(\"ODS_Code\")\n",
    "\n",
    "# ------------------------------------------------------------\n",
    "# 6) Optical Sites\n",
    "# ------------------------------------------------------------\n",
    "df_optical_sel = (\n",
    "    df_optical.alias(\"A\")\n",
    "    .join(\n",
    "        df_roles_ro261.alias(\"B\"),\n",
    "        col(\"A.High_Level_Health_Authority_Code\") == col(\"B.ODS_Code\"),\n",
    "        \"inner\"  # match as per WHERE B.Role_ID = 'RO261'\n",
    "    )\n",
    "    .where(col(\"A.Is_Latest\") == 1)\n",
    "    .select(\n",
    "        col(\"A.Organisation_Code\"),\n",
    "        col(\"A.Organisation_Name\"),\n",
    "        col(\"A.High_Level_Health_Authority_Code\").alias(\"ICB_Code\"),\n",
    "        lit(None).cast(\"string\").alias(\"Integrated_Care_Board_Name\"),\n",
    "        lit(\"Optical Site\").alias(\"ODS_Organisation_Type\"),\n",
    "        col(\"A.Join_Parent_Date\").alias(\"Effective_From\"),\n",
    "        col(\"A.Left_Parent_Date\").alias(\"Effective_To\")\n",
    "    )\n",
    "    .withColumn(\"Source\", lit(\"Optical_Sites_SCD_1\"))\n",
    ")\n",
    "\n",
    "# ------------------------------------------------------------\n",
    "# 7) Dental Practices\n",
    "# ------------------------------------------------------------\n",
    "df_dental_sel = (\n",
    "    df_dental.alias(\"A\")\n",
    "    .join(\n",
    "        df_roles_ro261.alias(\"B\"),\n",
    "        col(\"A.High_Level_Health_Authority_Code\") == col(\"B.ODS_Code\"),\n",
    "        \"inner\"  # match as per WHERE B.Role_ID = 'RO261'\n",
    "    )\n",
    "    .where(col(\"A.Is_Latest\") == 1)\n",
    "    .select(\n",
    "        col(\"A.Organisation_Code\"),\n",
    "        col(\"A.Organisation_Name\"),\n",
    "        col(\"A.High_Level_Health_Authority_Code\").alias(\"ICB_Code\"),\n",
    "        lit(None).cast(\"string\").alias(\"Integrated_Care_Board_Name\"),\n",
    "        lit(\"Dental Practice\").alias(\"ODS_Organisation_Type\"),\n",
    "        col(\"A.Join_Parent_Date\").alias(\"Effective_From\"),\n",
    "        col(\"A.Left_Parent_Date\").alias(\"Effective_To\")\n",
    "    )\n",
    "    .withColumn(\"Source\", lit(\"General_Dental_Practices_SCD_1\"))\n",
    ")\n",
    "\n",
    "# ------------------------------------------------------------\n",
    "# 8) Manual entries\n",
    "# ------------------------------------------------------------\n",
    "manual_entries = [\n",
    "    (\"T040\", \"COMMUNITY HEALTH AND EYECARE LTD\", \"UNK\", \"UNKNOWN\", \"Optical Site\", None, None, \"Manual\"),\n",
    "    (\"06P\", \"NHS LUTON CCG\", \"QHG\", \"NHS BEDFORDSHIRE, LUTON AND MILTON KEYNES INTEGRATED CARE BOARD\", \"CLINICAL COMMISSIONING GROUP\", None, None, \"Manual\"),\n",
    "    (\"R0E1C\", \"REFERRAL SUPPORT SERVICE\", \"QWU\", \"NHS COVENTRY AND WARWICKSHIRE INTEGRATED CARE BOARD\", \"CLINICAL COMMISSIONING GROUP\", None, None, \"Manual\"),\n",
    "    (\"M85046003\", \"SUTTON PARK SURGERY\", \"QHL\", \"NHS BIRMINGHAM AND SOLIHULL INTEGRATED CARE BOARD\", \"BRANCH SURGERY\", None, None, \"Manual\"),\n",
    "    (\"Y05286001\", \"LISTER HOUSE CHELLASTON\", \"QJ2\", \"NHS DERBY AND DERBYSHIRE INTEGRATED CARE BOARD\", \"BRANCH SURGERY\", None, None, \"Manual\"),\n",
    "    (\"M89017001\", \"SHIRLEY MEDICAL CENTRE\", \"QHL\", \"NHS BIRMINGHAM AND SOLIHULL INTEGRATED CARE BOARD\", \"BRANCH SURGERY\", None, None, \"Manual\"),\n",
    "    (\"B6S7Y\", \"MEDICUS HEALTH PARTNERS ALMA HEALTHCARE CENTRE\", \"QMJ\", \"NHS NORTH CENTRAL LONDON INTEGRATED CARE BOARD\", \"CLINICAL COMMISSIONING GROUP\", None, None, \"Manual\"),\n",
    "]\n",
    "\n",
    "manual_schema = StructType([\n",
    "    StructField(\"Organisation_Code\", StringType(), True),\n",
    "    StructField(\"Organisation_Name\", StringType(), True),\n",
    "    StructField(\"ICB_Code\", StringType(), True),\n",
    "    StructField(\"Integrated_Care_Board_Name\", StringType(), True),\n",
    "    StructField(\"ODS_Organisation_Type\", StringType(), True),\n",
    "    StructField(\"Effective_From\", DateType(), True),\n",
    "    StructField(\"Effective_To\", DateType(), True),\n",
    "    StructField(\"Source\", StringType(), True),\n",
    "])\n",
    "\n",
    "df_manual = spark.createDataFrame(manual_entries, manual_schema)\n",
    "\n",
    "# ------------------------------------------------------------\n",
    "# 9) Enforce date columns\n",
    "# ------------------------------------------------------------\n",
    "df_icb_sel      = ensure_date_cols(df_icb_sel)\n",
    "df_provider_sel = ensure_date_cols(df_provider_sel)\n",
    "df_gps_practice = ensure_date_cols(df_gps_practice)\n",
    "df_gps_pcn      = ensure_date_cols(df_gps_pcn)\n",
    "df_optical_sel  = ensure_date_cols(df_optical_sel)\n",
    "df_dental_sel   = ensure_date_cols(df_dental_sel)\n",
    "df_manual       = ensure_date_cols(df_manual)\n",
    "\n",
    "# ------------------------------------------------------------\n",
    "# 10) Union all datasets\n",
    "# ------------------------------------------------------------\n",
    "df_all = (\n",
    "    df_icb_sel\n",
    "    .unionByName(df_provider_sel)\n",
    "    .unionByName(df_gps_practice)\n",
    "    .unionByName(df_gps_pcn)\n",
    "    .unionByName(df_optical_sel)\n",
    "    .unionByName(df_dental_sel)\n",
    "    .unionByName(df_manual)\n",
    ")\n",
    "\n",
    "# ------------------------------------------------------------\n",
    "# 11) Latest record per Organisation_Code\n",
    "# ------------------------------------------------------------\n",
    "window_spec = Window.partitionBy(\"Organisation_Code\").orderBy(\n",
    "    coalesce(col(\"Effective_To\"), to_date(lit(\"2999-12-31\"))).desc()\n",
    ")\n",
    "df_latest = df_all.withColumn(\"LatestRowNumber\", row_number().over(window_spec))\n",
    "\n",
    "# ------------------------------------------------------------\n",
    "# 12) Final selection\n",
    "# ------------------------------------------------------------\n",
    "master_hierarchies_table = (\n",
    "    df_latest\n",
    "    .filter(col(\"LatestRowNumber\") == 1)\n",
    "    .select(\n",
    "        col(\"Organisation_Code\"),\n",
    "        col(\"Organisation_Name\"),\n",
    "        col(\"ICB_Code\").alias(\"STP_Code\"),\n",
    "        col(\"Integrated_Care_Board_Name\").alias(\"STP_Name\"),\n",
    "        col(\"ODS_Organisation_Type\"),\n",
    "        col(\"Effective_From\"),\n",
    "        col(\"Effective_To\"),\n",
    "        col(\"Source\")\n",
    "    )\n",
    ")\n",
    "\n",
    "# ------------------------------------------------------------\n",
    "# 13) Display\n",
    "# ------------------------------------------------------------\n",
    "display(master_hierarchies_table)\n",
    "\n",
    "#Row count of data set\n",
    "display(master_hierarchies_table.count())"
   ]
  },
  {
   "cell_type": "code",
   "execution_count": 0,
   "metadata": {
    "application/vnd.databricks.v1+cell": {
     "cellMetadata": {
      "byteLimit": 2048000,
      "rowLimit": 10000
     },
     "inputWidgets": {},
     "nuid": "e5ae2df6-444e-4fdc-92ba-4e110bbf6b17",
     "showTitle": false,
     "tableResultSettingsMap": {},
     "title": ""
    }
   },
   "outputs": [],
   "source": [
    "# 14) Row count by Source\n",
    "\n",
    "print(\"Row counts by Source:\")\n",
    "display(master_hierarchies_table.groupBy(\"Source\").count().orderBy(col(\"count\").desc()))\n",
    "\n",
    "# 15) Duplicate check by Organisation_Code (show full rows)\n",
    "\n",
    "dupe_codes = (\n",
    "    master_hierarchies_table\n",
    "    .groupBy(\"Organisation_Code\")\n",
    "    .count()\n",
    "    .filter(col(\"count\") > 1)\n",
    "    .select(\"Organisation_Code\")\n",
    ")\n",
    "\n",
    "if dupe_codes.count() > 0:\n",
    "    print(\"⚠️ Duplicate Organisation_Codes found — showing all matching rows:\")\n",
    "    dupes_full = master_hierarchies_table.join(dupe_codes, on=\"Organisation_Code\", how=\"inner\")\n",
    "    display(dupes_full.orderBy(\"Organisation_Code\", \"Source\"))\n",
    "else:\n",
    "    print(\"✅ No duplicate Organisation_Codes found.\")"
   ]
  },
  {
   "cell_type": "code",
   "execution_count": 0,
   "metadata": {
    "application/vnd.databricks.v1+cell": {
     "cellMetadata": {
      "byteLimit": 2048000,
      "rowLimit": 10000
     },
     "inputWidgets": {},
     "nuid": "31c21124-129a-4000-a612-7e17eba1359f",
     "showTitle": false,
     "tableResultSettingsMap": {},
     "title": ""
    }
   },
   "outputs": [],
   "source": [
    "master_hierarchies_table.coalesce(1).write.mode(\"overwrite\").option(\"header\", True).csv(\n",
    "    \"abfss://analytics-projects@udalstdataanalysisprod.dfs.core.windows.net/ElectiveRecovery/EROC_Collection_Queries/master_hierarchies_table.csv\"\n",
    ")"
   ]
  }
 ],
 "metadata": {
  "application/vnd.databricks.v1+notebook": {
   "computePreferences": null,
   "dashboards": [],
   "environmentMetadata": {
    "base_environment": "",
    "environment_version": "2"
   },
   "inputWidgetPreferences": null,
   "language": "python",
   "notebookMetadata": {
    "pythonIndentUnit": 4
   },
   "notebookName": "GP Hierarchy",
   "widgets": {}
  },
  "language_info": {
   "name": "python"
  }
 },
 "nbformat": 4,
 "nbformat_minor": 0
}
